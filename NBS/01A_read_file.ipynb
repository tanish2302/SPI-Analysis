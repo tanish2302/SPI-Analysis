{
 "cells": [
  {
   "cell_type": "markdown",
   "id": "491ef12a",
   "metadata": {},
   "source": [
    "# Read the SPI(Social Progress Index) file"
   ]
  },
  {
   "cell_type": "markdown",
   "id": "f3550da8",
   "metadata": {},
   "source": [
    "## Scope\n",
    "* Read the spi.csv file in a pandas dataframe.\n",
    "* Print head of the dataframe."
   ]
  },
  {
   "cell_type": "markdown",
   "id": "118a8f63",
   "metadata": {},
   "source": [
    "## Summary\n",
    "- Successfully read the file and previewed it.\n",
    "- There are 169 rows and 18 columns in the file."
   ]
  },
  {
   "cell_type": "markdown",
   "id": "159e9862",
   "metadata": {},
   "source": [
    "## Imports"
   ]
  },
  {
   "cell_type": "code",
   "execution_count": 1,
   "id": "f9ecfc9d",
   "metadata": {},
   "outputs": [],
   "source": [
    "# Import libraries\n",
    "import pandas as pd"
   ]
  },
  {
   "cell_type": "code",
   "execution_count": 2,
   "id": "df8c79b7",
   "metadata": {},
   "outputs": [],
   "source": [
    "# Read csv\n",
    "df = pd.read_csv('C:/Users/Tanish/Desktop/SPI-Analysis-Project/Data/spi.csv')"
   ]
  },
  {
   "cell_type": "code",
   "execution_count": 3,
   "id": "d9e195be",
   "metadata": {},
   "outputs": [
    {
     "data": {
      "text/html": [
       "<div>\n",
       "<style scoped>\n",
       "    .dataframe tbody tr th:only-of-type {\n",
       "        vertical-align: middle;\n",
       "    }\n",
       "\n",
       "    .dataframe tbody tr th {\n",
       "        vertical-align: top;\n",
       "    }\n",
       "\n",
       "    .dataframe thead th {\n",
       "        text-align: right;\n",
       "    }\n",
       "</style>\n",
       "<table border=\"1\" class=\"dataframe\">\n",
       "  <thead>\n",
       "    <tr style=\"text-align: right;\">\n",
       "      <th></th>\n",
       "      <th>spi_rank</th>\n",
       "      <th>country</th>\n",
       "      <th>spi_score</th>\n",
       "      <th>basic_human_needs</th>\n",
       "      <th>wellbeing</th>\n",
       "      <th>opportunity</th>\n",
       "      <th>basic_nutri_med_care</th>\n",
       "      <th>water_sanitation</th>\n",
       "      <th>shelter</th>\n",
       "      <th>personal_safety</th>\n",
       "      <th>access_basic_knowledge</th>\n",
       "      <th>access_info_comm</th>\n",
       "      <th>health_wellness</th>\n",
       "      <th>env_quality</th>\n",
       "      <th>personal_rights</th>\n",
       "      <th>personal_freedom_choice</th>\n",
       "      <th>inclusiveness</th>\n",
       "      <th>access_adv_edu</th>\n",
       "    </tr>\n",
       "  </thead>\n",
       "  <tbody>\n",
       "    <tr>\n",
       "      <th>0</th>\n",
       "      <td>1</td>\n",
       "      <td>Norway</td>\n",
       "      <td>92.63</td>\n",
       "      <td>95.29</td>\n",
       "      <td>93.30</td>\n",
       "      <td>89.30</td>\n",
       "      <td>98.81</td>\n",
       "      <td>98.33</td>\n",
       "      <td>93.75</td>\n",
       "      <td>90.29</td>\n",
       "      <td>98.66</td>\n",
       "      <td>95.80</td>\n",
       "      <td>89.32</td>\n",
       "      <td>89.44</td>\n",
       "      <td>96.34</td>\n",
       "      <td>91.16</td>\n",
       "      <td>83.77</td>\n",
       "      <td>85.92</td>\n",
       "    </tr>\n",
       "    <tr>\n",
       "      <th>1</th>\n",
       "      <td>2</td>\n",
       "      <td>Finland</td>\n",
       "      <td>92.26</td>\n",
       "      <td>95.62</td>\n",
       "      <td>93.09</td>\n",
       "      <td>88.07</td>\n",
       "      <td>98.99</td>\n",
       "      <td>99.26</td>\n",
       "      <td>96.48</td>\n",
       "      <td>87.75</td>\n",
       "      <td>96.32</td>\n",
       "      <td>95.14</td>\n",
       "      <td>85.73</td>\n",
       "      <td>95.15</td>\n",
       "      <td>96.13</td>\n",
       "      <td>88.10</td>\n",
       "      <td>82.81</td>\n",
       "      <td>85.23</td>\n",
       "    </tr>\n",
       "    <tr>\n",
       "      <th>2</th>\n",
       "      <td>3</td>\n",
       "      <td>Denmark</td>\n",
       "      <td>92.15</td>\n",
       "      <td>95.30</td>\n",
       "      <td>92.74</td>\n",
       "      <td>88.41</td>\n",
       "      <td>98.62</td>\n",
       "      <td>98.21</td>\n",
       "      <td>94.92</td>\n",
       "      <td>89.46</td>\n",
       "      <td>97.44</td>\n",
       "      <td>98.18</td>\n",
       "      <td>85.15</td>\n",
       "      <td>90.20</td>\n",
       "      <td>97.08</td>\n",
       "      <td>90.03</td>\n",
       "      <td>81.64</td>\n",
       "      <td>84.89</td>\n",
       "    </tr>\n",
       "    <tr>\n",
       "      <th>3</th>\n",
       "      <td>4</td>\n",
       "      <td>Iceland</td>\n",
       "      <td>91.78</td>\n",
       "      <td>96.66</td>\n",
       "      <td>93.65</td>\n",
       "      <td>85.04</td>\n",
       "      <td>98.99</td>\n",
       "      <td>98.82</td>\n",
       "      <td>93.16</td>\n",
       "      <td>95.66</td>\n",
       "      <td>99.51</td>\n",
       "      <td>93.12</td>\n",
       "      <td>91.02</td>\n",
       "      <td>90.93</td>\n",
       "      <td>95.14</td>\n",
       "      <td>88.01</td>\n",
       "      <td>77.63</td>\n",
       "      <td>79.39</td>\n",
       "    </tr>\n",
       "    <tr>\n",
       "      <th>4</th>\n",
       "      <td>5</td>\n",
       "      <td>Switzerland</td>\n",
       "      <td>91.78</td>\n",
       "      <td>95.25</td>\n",
       "      <td>93.80</td>\n",
       "      <td>86.28</td>\n",
       "      <td>98.72</td>\n",
       "      <td>98.96</td>\n",
       "      <td>92.97</td>\n",
       "      <td>90.35</td>\n",
       "      <td>98.60</td>\n",
       "      <td>95.07</td>\n",
       "      <td>91.50</td>\n",
       "      <td>90.05</td>\n",
       "      <td>96.69</td>\n",
       "      <td>90.65</td>\n",
       "      <td>74.81</td>\n",
       "      <td>82.99</td>\n",
       "    </tr>\n",
       "  </tbody>\n",
       "</table>\n",
       "</div>"
      ],
      "text/plain": [
       "   spi_rank      country  spi_score  basic_human_needs  wellbeing  \\\n",
       "0         1       Norway      92.63              95.29      93.30   \n",
       "1         2      Finland      92.26              95.62      93.09   \n",
       "2         3      Denmark      92.15              95.30      92.74   \n",
       "3         4      Iceland      91.78              96.66      93.65   \n",
       "4         5  Switzerland      91.78              95.25      93.80   \n",
       "\n",
       "   opportunity  basic_nutri_med_care  water_sanitation  shelter  \\\n",
       "0        89.30                 98.81             98.33    93.75   \n",
       "1        88.07                 98.99             99.26    96.48   \n",
       "2        88.41                 98.62             98.21    94.92   \n",
       "3        85.04                 98.99             98.82    93.16   \n",
       "4        86.28                 98.72             98.96    92.97   \n",
       "\n",
       "   personal_safety  access_basic_knowledge  access_info_comm  health_wellness  \\\n",
       "0            90.29                   98.66             95.80            89.32   \n",
       "1            87.75                   96.32             95.14            85.73   \n",
       "2            89.46                   97.44             98.18            85.15   \n",
       "3            95.66                   99.51             93.12            91.02   \n",
       "4            90.35                   98.60             95.07            91.50   \n",
       "\n",
       "   env_quality  personal_rights  personal_freedom_choice  inclusiveness  \\\n",
       "0        89.44            96.34                    91.16          83.77   \n",
       "1        95.15            96.13                    88.10          82.81   \n",
       "2        90.20            97.08                    90.03          81.64   \n",
       "3        90.93            95.14                    88.01          77.63   \n",
       "4        90.05            96.69                    90.65          74.81   \n",
       "\n",
       "   access_adv_edu  \n",
       "0           85.92  \n",
       "1           85.23  \n",
       "2           84.89  \n",
       "3           79.39  \n",
       "4           82.99  "
      ]
     },
     "execution_count": 3,
     "metadata": {},
     "output_type": "execute_result"
    }
   ],
   "source": [
    "# Preview\n",
    "df.head()"
   ]
  },
  {
   "cell_type": "code",
   "execution_count": 4,
   "id": "dceb83ee",
   "metadata": {},
   "outputs": [
    {
     "data": {
      "text/plain": [
       "(169, 18)"
      ]
     },
     "execution_count": 4,
     "metadata": {},
     "output_type": "execute_result"
    }
   ],
   "source": [
    "# Shape\n",
    "df.shape"
   ]
  }
 ],
 "metadata": {
  "kernelspec": {
   "display_name": "Python (SPI Project)",
   "language": "python",
   "name": "spi-env"
  },
  "language_info": {
   "codemirror_mode": {
    "name": "ipython",
    "version": 3
   },
   "file_extension": ".py",
   "mimetype": "text/x-python",
   "name": "python",
   "nbconvert_exporter": "python",
   "pygments_lexer": "ipython3",
   "version": "3.10.8"
  }
 },
 "nbformat": 4,
 "nbformat_minor": 5
}
