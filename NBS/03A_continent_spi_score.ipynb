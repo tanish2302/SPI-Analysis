{
 "cells": [
  {
   "cell_type": "markdown",
   "id": "bb2261d2",
   "metadata": {},
   "source": [
    "# Check how different continents vary depending on SPI Score\n",
    "\n"
   ]
  },
  {
   "cell_type": "markdown",
   "id": "7da1d297",
   "metadata": {},
   "source": [
    "## Scope\n",
    "- [x] Group countries on continents.\n",
    "- [x] Compare and comment on the SPI score of the 6 continents."
   ]
  },
  {
   "cell_type": "markdown",
   "id": "7d2b38c4",
   "metadata": {},
   "source": [
    "## Summary\n",
    "- `Europe` has the highest avg SPI score.\n",
    "- `Africa` has the lowest avg SPI score.\n",
    "- Difference between Europe and Africa's SPI score is `30.95`.\n",
    "- As mentioned before overall avg SPI score is `67.4`, that makes `Africa` and `Asia` below overall average SPI score.\n",
    "- The rest 3 continets `North America`, `Oceania` and `South America` are pretty similar in number ranging from `69.8 - 73.6`"
   ]
  },
  {
   "cell_type": "markdown",
   "id": "6bfe7857",
   "metadata": {},
   "source": [
    "## Imports"
   ]
  },
  {
   "cell_type": "code",
   "execution_count": null,
   "id": "2d6e815e",
   "metadata": {},
   "outputs": [],
   "source": [
    "import pandas as pd\n",
    "import altair as alt"
   ]
  },
  {
   "cell_type": "code",
   "execution_count": null,
   "id": "85c7c5cc",
   "metadata": {},
   "outputs": [],
   "source": [
    "# Read csv\n",
    "df = pd.read_csv('C:/Users/Tanish/Desktop/SPI-Analysis-Project/Data/new_spi.csv')"
   ]
  },
  {
   "cell_type": "code",
   "execution_count": 3,
   "id": "d4f785ab",
   "metadata": {},
   "outputs": [
    {
     "data": {
      "text/html": [
       "<div>\n",
       "<style scoped>\n",
       "    .dataframe tbody tr th:only-of-type {\n",
       "        vertical-align: middle;\n",
       "    }\n",
       "\n",
       "    .dataframe tbody tr th {\n",
       "        vertical-align: top;\n",
       "    }\n",
       "\n",
       "    .dataframe thead th {\n",
       "        text-align: right;\n",
       "    }\n",
       "</style>\n",
       "<table border=\"1\" class=\"dataframe\">\n",
       "  <thead>\n",
       "    <tr style=\"text-align: right;\">\n",
       "      <th></th>\n",
       "      <th>spi_rank</th>\n",
       "      <th>country</th>\n",
       "      <th>spi_score</th>\n",
       "      <th>basic_human_needs</th>\n",
       "      <th>wellbeing</th>\n",
       "      <th>opportunity</th>\n",
       "      <th>basic_nutri_med_care</th>\n",
       "      <th>water_sanitation</th>\n",
       "      <th>shelter</th>\n",
       "      <th>personal_safety</th>\n",
       "      <th>access_basic_knowledge</th>\n",
       "      <th>access_info_comm</th>\n",
       "      <th>health_wellness</th>\n",
       "      <th>env_quality</th>\n",
       "      <th>personal_rights</th>\n",
       "      <th>personal_freedom_choice</th>\n",
       "      <th>inclusiveness</th>\n",
       "      <th>access_adv_edu</th>\n",
       "      <th>continent</th>\n",
       "    </tr>\n",
       "  </thead>\n",
       "  <tbody>\n",
       "    <tr>\n",
       "      <th>0</th>\n",
       "      <td>1</td>\n",
       "      <td>Norway</td>\n",
       "      <td>92.63</td>\n",
       "      <td>95.29</td>\n",
       "      <td>93.30</td>\n",
       "      <td>89.30</td>\n",
       "      <td>98.81</td>\n",
       "      <td>98.33</td>\n",
       "      <td>93.75</td>\n",
       "      <td>90.29</td>\n",
       "      <td>98.66</td>\n",
       "      <td>95.80</td>\n",
       "      <td>89.32</td>\n",
       "      <td>89.44</td>\n",
       "      <td>96.34</td>\n",
       "      <td>91.16</td>\n",
       "      <td>83.77</td>\n",
       "      <td>85.92</td>\n",
       "      <td>Europe</td>\n",
       "    </tr>\n",
       "    <tr>\n",
       "      <th>1</th>\n",
       "      <td>2</td>\n",
       "      <td>Finland</td>\n",
       "      <td>92.26</td>\n",
       "      <td>95.62</td>\n",
       "      <td>93.09</td>\n",
       "      <td>88.07</td>\n",
       "      <td>98.99</td>\n",
       "      <td>99.26</td>\n",
       "      <td>96.48</td>\n",
       "      <td>87.75</td>\n",
       "      <td>96.32</td>\n",
       "      <td>95.14</td>\n",
       "      <td>85.73</td>\n",
       "      <td>95.15</td>\n",
       "      <td>96.13</td>\n",
       "      <td>88.10</td>\n",
       "      <td>82.81</td>\n",
       "      <td>85.23</td>\n",
       "      <td>Europe</td>\n",
       "    </tr>\n",
       "    <tr>\n",
       "      <th>2</th>\n",
       "      <td>3</td>\n",
       "      <td>Denmark</td>\n",
       "      <td>92.15</td>\n",
       "      <td>95.30</td>\n",
       "      <td>92.74</td>\n",
       "      <td>88.41</td>\n",
       "      <td>98.62</td>\n",
       "      <td>98.21</td>\n",
       "      <td>94.92</td>\n",
       "      <td>89.46</td>\n",
       "      <td>97.44</td>\n",
       "      <td>98.18</td>\n",
       "      <td>85.15</td>\n",
       "      <td>90.20</td>\n",
       "      <td>97.08</td>\n",
       "      <td>90.03</td>\n",
       "      <td>81.64</td>\n",
       "      <td>84.89</td>\n",
       "      <td>Europe</td>\n",
       "    </tr>\n",
       "    <tr>\n",
       "      <th>3</th>\n",
       "      <td>4</td>\n",
       "      <td>Iceland</td>\n",
       "      <td>91.78</td>\n",
       "      <td>96.66</td>\n",
       "      <td>93.65</td>\n",
       "      <td>85.04</td>\n",
       "      <td>98.99</td>\n",
       "      <td>98.82</td>\n",
       "      <td>93.16</td>\n",
       "      <td>95.66</td>\n",
       "      <td>99.51</td>\n",
       "      <td>93.12</td>\n",
       "      <td>91.02</td>\n",
       "      <td>90.93</td>\n",
       "      <td>95.14</td>\n",
       "      <td>88.01</td>\n",
       "      <td>77.63</td>\n",
       "      <td>79.39</td>\n",
       "      <td>Europe</td>\n",
       "    </tr>\n",
       "    <tr>\n",
       "      <th>4</th>\n",
       "      <td>5</td>\n",
       "      <td>Switzerland</td>\n",
       "      <td>91.78</td>\n",
       "      <td>95.25</td>\n",
       "      <td>93.80</td>\n",
       "      <td>86.28</td>\n",
       "      <td>98.72</td>\n",
       "      <td>98.96</td>\n",
       "      <td>92.97</td>\n",
       "      <td>90.35</td>\n",
       "      <td>98.60</td>\n",
       "      <td>95.07</td>\n",
       "      <td>91.50</td>\n",
       "      <td>90.05</td>\n",
       "      <td>96.69</td>\n",
       "      <td>90.65</td>\n",
       "      <td>74.81</td>\n",
       "      <td>82.99</td>\n",
       "      <td>Europe</td>\n",
       "    </tr>\n",
       "  </tbody>\n",
       "</table>\n",
       "</div>"
      ],
      "text/plain": [
       "   spi_rank      country  spi_score  basic_human_needs  wellbeing  \\\n",
       "0         1       Norway      92.63              95.29      93.30   \n",
       "1         2      Finland      92.26              95.62      93.09   \n",
       "2         3      Denmark      92.15              95.30      92.74   \n",
       "3         4      Iceland      91.78              96.66      93.65   \n",
       "4         5  Switzerland      91.78              95.25      93.80   \n",
       "\n",
       "   opportunity  basic_nutri_med_care  water_sanitation  shelter  \\\n",
       "0        89.30                 98.81             98.33    93.75   \n",
       "1        88.07                 98.99             99.26    96.48   \n",
       "2        88.41                 98.62             98.21    94.92   \n",
       "3        85.04                 98.99             98.82    93.16   \n",
       "4        86.28                 98.72             98.96    92.97   \n",
       "\n",
       "   personal_safety  access_basic_knowledge  access_info_comm  health_wellness  \\\n",
       "0            90.29                   98.66             95.80            89.32   \n",
       "1            87.75                   96.32             95.14            85.73   \n",
       "2            89.46                   97.44             98.18            85.15   \n",
       "3            95.66                   99.51             93.12            91.02   \n",
       "4            90.35                   98.60             95.07            91.50   \n",
       "\n",
       "   env_quality  personal_rights  personal_freedom_choice  inclusiveness  \\\n",
       "0        89.44            96.34                    91.16          83.77   \n",
       "1        95.15            96.13                    88.10          82.81   \n",
       "2        90.20            97.08                    90.03          81.64   \n",
       "3        90.93            95.14                    88.01          77.63   \n",
       "4        90.05            96.69                    90.65          74.81   \n",
       "\n",
       "   access_adv_edu continent  \n",
       "0           85.92    Europe  \n",
       "1           85.23    Europe  \n",
       "2           84.89    Europe  \n",
       "3           79.39    Europe  \n",
       "4           82.99    Europe  "
      ]
     },
     "execution_count": 5,
     "metadata": {},
     "output_type": "execute_result"
    }
   ],
   "source": [
    "# Preview\n",
    "df.head()"
   ]
  },
  {
   "cell_type": "code",
   "execution_count": 4,
   "id": "dec85bd6",
   "metadata": {},
   "outputs": [
    {
     "data": {
      "text/plain": [
       "(168, 19)"
      ]
     },
     "execution_count": 6,
     "metadata": {},
     "output_type": "execute_result"
    }
   ],
   "source": [
    "# Shape\n",
    "df.shape"
   ]
  },
  {
   "cell_type": "code",
   "execution_count": 5,
   "id": "f99113a0",
   "metadata": {},
   "outputs": [
    {
     "data": {
      "text/plain": [
       "np.float64(67.44732142857144)"
      ]
     },
     "execution_count": 7,
     "metadata": {},
     "output_type": "execute_result"
    }
   ],
   "source": [
    "# Overall avg SPI score\n",
    "df.spi_score.mean()"
   ]
  },
  {
   "cell_type": "code",
   "execution_count": 6,
   "id": "9e88394d",
   "metadata": {},
   "outputs": [],
   "source": [
    "# Groupby on continents\n",
    "df_group = df.groupby('continent')"
   ]
  },
  {
   "cell_type": "code",
   "execution_count": 7,
   "id": "930e2a40",
   "metadata": {},
   "outputs": [],
   "source": [
    "# Calculate mean of spi score for continents\n",
    "df_continent = df_group['spi_score'].mean()"
   ]
  },
  {
   "cell_type": "code",
   "execution_count": 8,
   "id": "d2d46819",
   "metadata": {},
   "outputs": [],
   "source": [
    "# Reset the index of the resulting dataframe\n",
    "cont_spi = df_continent.reset_index(name='avg_spi')"
   ]
  },
  {
   "cell_type": "code",
   "execution_count": 9,
   "id": "0fe499ee",
   "metadata": {},
   "outputs": [
    {
     "data": {
      "text/html": [
       "<div>\n",
       "<style scoped>\n",
       "    .dataframe tbody tr th:only-of-type {\n",
       "        vertical-align: middle;\n",
       "    }\n",
       "\n",
       "    .dataframe tbody tr th {\n",
       "        vertical-align: top;\n",
       "    }\n",
       "\n",
       "    .dataframe thead th {\n",
       "        text-align: right;\n",
       "    }\n",
       "</style>\n",
       "<table border=\"1\" class=\"dataframe\">\n",
       "  <thead>\n",
       "    <tr style=\"text-align: right;\">\n",
       "      <th></th>\n",
       "      <th>continent</th>\n",
       "      <th>avg_spi</th>\n",
       "    </tr>\n",
       "  </thead>\n",
       "  <tbody>\n",
       "    <tr>\n",
       "      <th>0</th>\n",
       "      <td>Africa</td>\n",
       "      <td>53.106226</td>\n",
       "    </tr>\n",
       "    <tr>\n",
       "      <th>1</th>\n",
       "      <td>Asia</td>\n",
       "      <td>66.816000</td>\n",
       "    </tr>\n",
       "    <tr>\n",
       "      <th>2</th>\n",
       "      <td>Europe</td>\n",
       "      <td>84.058974</td>\n",
       "    </tr>\n",
       "    <tr>\n",
       "      <th>3</th>\n",
       "      <td>North America</td>\n",
       "      <td>71.453333</td>\n",
       "    </tr>\n",
       "    <tr>\n",
       "      <th>4</th>\n",
       "      <td>Oceania</td>\n",
       "      <td>69.890000</td>\n",
       "    </tr>\n",
       "    <tr>\n",
       "      <th>5</th>\n",
       "      <td>South America</td>\n",
       "      <td>73.659091</td>\n",
       "    </tr>\n",
       "  </tbody>\n",
       "</table>\n",
       "</div>"
      ],
      "text/plain": [
       "       continent    avg_spi\n",
       "0         Africa  53.106226\n",
       "1           Asia  66.816000\n",
       "2         Europe  84.058974\n",
       "3  North America  71.453333\n",
       "4        Oceania  69.890000\n",
       "5  South America  73.659091"
      ]
     },
     "execution_count": 11,
     "metadata": {},
     "output_type": "execute_result"
    }
   ],
   "source": [
    "cont_spi"
   ]
  },
  {
   "cell_type": "code",
   "execution_count": 10,
   "id": "af6acfbb",
   "metadata": {},
   "outputs": [],
   "source": [
    "# Create a bar chart using Altair\n",
    "bar_chart_A = alt.Chart(cont_spi).mark_bar(opacity=0.8).encode(\n",
    "    x=alt.X('continent',axis=alt.Axis(title='Continents')),\n",
    "    y=alt.Y('avg_spi:Q',axis=alt.Axis(title='Average SPI score')),\n",
    "    tooltip=['continent', 'avg_spi:Q']\n",
    ").properties(\n",
    "    width=500,\n",
    "    height=300,\n",
    "    title='Average SPI score accross continents'\n",
    ").configure_title(\n",
    "    anchor='middle'\n",
    ")"
   ]
  },
  {
   "cell_type": "code",
   "execution_count": 11,
   "id": "c05a6821",
   "metadata": {},
   "outputs": [
    {
     "data": {
      "text/html": [
       "\n",
       "<style>\n",
       "  #altair-viz-9b355587863e49fe878642cc47e847ac.vega-embed {\n",
       "    width: 100%;\n",
       "    display: flex;\n",
       "  }\n",
       "\n",
       "  #altair-viz-9b355587863e49fe878642cc47e847ac.vega-embed details,\n",
       "  #altair-viz-9b355587863e49fe878642cc47e847ac.vega-embed details summary {\n",
       "    position: relative;\n",
       "  }\n",
       "</style>\n",
       "<div id=\"altair-viz-9b355587863e49fe878642cc47e847ac\"></div>\n",
       "<script type=\"text/javascript\">\n",
       "  var VEGA_DEBUG = (typeof VEGA_DEBUG == \"undefined\") ? {} : VEGA_DEBUG;\n",
       "  (function(spec, embedOpt){\n",
       "    let outputDiv = document.currentScript.previousElementSibling;\n",
       "    if (outputDiv.id !== \"altair-viz-9b355587863e49fe878642cc47e847ac\") {\n",
       "      outputDiv = document.getElementById(\"altair-viz-9b355587863e49fe878642cc47e847ac\");\n",
       "    }\n",
       "\n",
       "    const paths = {\n",
       "      \"vega\": \"https://cdn.jsdelivr.net/npm/vega@5?noext\",\n",
       "      \"vega-lib\": \"https://cdn.jsdelivr.net/npm/vega-lib?noext\",\n",
       "      \"vega-lite\": \"https://cdn.jsdelivr.net/npm/vega-lite@5.20.1?noext\",\n",
       "      \"vega-embed\": \"https://cdn.jsdelivr.net/npm/vega-embed@6?noext\",\n",
       "    };\n",
       "\n",
       "    function maybeLoadScript(lib, version) {\n",
       "      var key = `${lib.replace(\"-\", \"\")}_version`;\n",
       "      return (VEGA_DEBUG[key] == version) ?\n",
       "        Promise.resolve(paths[lib]) :\n",
       "        new Promise(function(resolve, reject) {\n",
       "          var s = document.createElement('script');\n",
       "          document.getElementsByTagName(\"head\")[0].appendChild(s);\n",
       "          s.async = true;\n",
       "          s.onload = () => {\n",
       "            VEGA_DEBUG[key] = version;\n",
       "            return resolve(paths[lib]);\n",
       "          };\n",
       "          s.onerror = () => reject(`Error loading script: ${paths[lib]}`);\n",
       "          s.src = paths[lib];\n",
       "        });\n",
       "    }\n",
       "\n",
       "    function showError(err) {\n",
       "      outputDiv.innerHTML = `<div class=\"error\" style=\"color:red;\">${err}</div>`;\n",
       "      throw err;\n",
       "    }\n",
       "\n",
       "    function displayChart(vegaEmbed) {\n",
       "      vegaEmbed(outputDiv, spec, embedOpt)\n",
       "        .catch(err => showError(`Javascript Error: ${err.message}<br>This usually means there's a typo in your chart specification. See the javascript console for the full traceback.`));\n",
       "    }\n",
       "\n",
       "    if(typeof define === \"function\" && define.amd) {\n",
       "      requirejs.config({paths});\n",
       "      let deps = [\"vega-embed\"];\n",
       "      require(deps, displayChart, err => showError(`Error loading script: ${err.message}`));\n",
       "    } else {\n",
       "      maybeLoadScript(\"vega\", \"5\")\n",
       "        .then(() => maybeLoadScript(\"vega-lite\", \"5.20.1\"))\n",
       "        .then(() => maybeLoadScript(\"vega-embed\", \"6\"))\n",
       "        .catch(showError)\n",
       "        .then(() => displayChart(vegaEmbed));\n",
       "    }\n",
       "  })({\"config\": {\"view\": {\"continuousWidth\": 300, \"continuousHeight\": 300}, \"axis\": {\"labelAngle\": 0}, \"title\": {\"anchor\": \"middle\"}}, \"data\": {\"name\": \"data-b4882a8c8a346ef064aee00502866e58\"}, \"mark\": {\"type\": \"bar\", \"opacity\": 0.8}, \"encoding\": {\"tooltip\": [{\"field\": \"continent\", \"type\": \"nominal\"}, {\"field\": \"avg_spi\", \"type\": \"quantitative\"}], \"x\": {\"axis\": {\"title\": \"Continents\"}, \"field\": \"continent\", \"type\": \"nominal\"}, \"y\": {\"axis\": {\"title\": \"Average SPI score\"}, \"field\": \"avg_spi\", \"type\": \"quantitative\"}}, \"height\": 300, \"title\": \"Average SPI score accross continents\", \"width\": 500, \"$schema\": \"https://vega.github.io/schema/vega-lite/v5.20.1.json\", \"datasets\": {\"data-b4882a8c8a346ef064aee00502866e58\": [{\"continent\": \"Africa\", \"avg_spi\": 53.10622641509434}, {\"continent\": \"Asia\", \"avg_spi\": 66.816}, {\"continent\": \"Europe\", \"avg_spi\": 84.05897435897437}, {\"continent\": \"North America\", \"avg_spi\": 71.45333333333333}, {\"continent\": \"Oceania\", \"avg_spi\": 69.89}, {\"continent\": \"South America\", \"avg_spi\": 73.6590909090909}]}}, {\"mode\": \"vega-lite\"});\n",
       "</script>"
      ],
      "text/plain": [
       "alt.Chart(...)"
      ]
     },
     "execution_count": 13,
     "metadata": {},
     "output_type": "execute_result"
    }
   ],
   "source": [
    "bar_chart_A.configure_axis(labelAngle=0)"
   ]
  },
  {
   "cell_type": "markdown",
   "id": "b9e914c0",
   "metadata": {},
   "source": [
    "## Plot Summary\n",
    "- `Europe` has the highest avg SPI score.\n",
    "- `Africa` has the lowest avg SPI score.\n",
    "- Difference between Europe and Africa's SPI score is `30.95`.\n",
    "- As mentioned before overall avg SPI score is `67.4`, that makes `Africa` and `Asia` below overall average SPI score.\n",
    "- The rest 3 continets `North America`, `Oceania` and `South America` are pretty similar in number ranging from `69.8 - 73.6`"
   ]
  }
 ],
 "metadata": {
  "kernelspec": {
   "display_name": "Python 3",
   "language": "python",
   "name": "python3"
  },
  "language_info": {
   "codemirror_mode": {
    "name": "ipython",
    "version": 3
   },
   "file_extension": ".py",
   "mimetype": "text/x-python",
   "name": "python",
   "nbconvert_exporter": "python",
   "pygments_lexer": "ipython3",
   "version": "3.8.8"
  }
 },
 "nbformat": 4,
 "nbformat_minor": 5
}
